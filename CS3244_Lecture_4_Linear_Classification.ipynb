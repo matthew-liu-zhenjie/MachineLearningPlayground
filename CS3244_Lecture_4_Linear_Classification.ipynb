{
  "cells": [
    {
      "cell_type": "markdown",
      "metadata": {
        "id": "Ed-4ePsgsyb3"
      },
      "source": [
        "# CS3244 Lecture 4: Linear Classification\n",
        "- Instructor: Harold Soh\n",
        "- TAs: Eugene Lim, Yang Mingyang\n",
        "- Date: 8 May 2022\n",
        "- Version: 0.1\n",
        "\n",
        "DISCLAIMER: Code prepared for educational purposes and to illustrate the key concepts. This code is implemented following the standard equations which is not efficient and can be numerically unstable. As we go through, we will mention some ways things should be implemented. The code may also have errors. Please report bugs on our piazza site.  \n",
        "\n"
      ]
    },
    {
      "cell_type": "code",
      "execution_count": null,
      "metadata": {
        "id": "Fv1x3Bldsyb5"
      },
      "outputs": [],
      "source": [
        "%matplotlib inline\n",
        "\n",
        "import numpy as np\n",
        "\n",
        "from numpy.random import randn, random_sample\n",
        "from numpy import log, exp\n",
        "from numpy.linalg import inv, pinv, norm\n",
        "\n",
        "import scipy.stats as stats\n",
        "\n",
        "import matplotlib\n",
        "import matplotlib.pyplot as plt\n",
        "import matplotlib.cm as cm"
      ]
    },
    {
      "cell_type": "code",
      "execution_count": null,
      "metadata": {
        "id": "L6GZwjq4syb6"
      },
      "outputs": [],
      "source": [
        "# some helper functions\n",
        "# plot the data\n",
        "def plotData(samples_0, samples_1, fig = None, ax = None):\n",
        "  # plot the data\n",
        "  if fig is None or ax is None:\n",
        "    fig, ax = plt.subplots()\n",
        "  ax.scatter(samples_0[:,0], samples_0[:,1], marker='x', color=\"r\")\n",
        "  ax.scatter(samples_1[:,0], samples_1[:,1], marker='o', color=\"b\")\n",
        "\n",
        "  ax.set_xlabel(\"$x_1$\")\n",
        "  ax.set_ylabel(\"$x_2$\")\n",
        "  \n",
        "  return fig, ax\n",
        "\n",
        "def logistic(z):\n",
        "  return 1.0/(1.0 + exp(-z))\n",
        "\n",
        "# this is the underlying classification function\n",
        "def genData(N, theta_0, theta_1):\n",
        "  # class 0\n",
        "  mean_0, cov_0 = theta_0\n",
        "  mean_1, cov_1 = theta_1\n",
        "  samples_0 = np.random.multivariate_normal(mean_0, cov_0, int(N/2))\n",
        "  samples_1 = np.random.multivariate_normal(mean_1, cov_1, int(N/2))\n",
        "\n",
        "  return samples_0, samples_1\n",
        "\n",
        "\n",
        "def splitSamples(X, T):\n",
        "  s = []\n",
        "  for y in [-1,1]:\n",
        "    ind = (T[:,0] == y)\n",
        "    s += [X[ind,:]]\n",
        "\n",
        "  return s\n",
        "\n",
        "def plotBoundary(w, xlims, ylims, fig=None, ax=None, color=\"g\", fill=True):\n",
        "\n",
        "  w0, w1, w2 = w\n",
        "  # Calculate the intercept and gradient of the decision boundary.\n",
        "  c = -w0/w2\n",
        "  m = -w1/w2\n",
        "\n",
        "  # Plot the data and the classification with the decision boundary.\n",
        "  xmin, xmax = xlims#-3, 3\n",
        "  ymin, ymax = ylims#-3, 4\n",
        "  x = np.array([xmin, xmax])\n",
        "  y = m*x + c\n",
        "\n",
        "  if fig is None or ax is None:\n",
        "    fig, ax = plt.subplots()\n",
        "\n",
        "  ax.plot(x, y, color, lw=2)\n",
        "  if fill:\n",
        "    ax.fill_between(x, y, ymin, color='r', alpha=0.1)\n",
        "    ax.fill_between(x, y, ymax, color='b', alpha=0.1)\n",
        "\n",
        "  return fig, ax\n",
        "\n",
        "\n",
        "def makeMatrixData(samples_0, samples_1, negclass=0):\n",
        "  N0 = samples_0.shape[0]\n",
        "  X0 = np.c_[np.ones(N0), samples_0]\n",
        "\n",
        "  N1 = samples_1.shape[0]\n",
        "  X1 = np.c_[np.ones(N1), samples_1]\n",
        "\n",
        "  X = np.r_[X0, X1]\n",
        "  T = np.r_[negclass*np.ones(N0).reshape(-1,1), np.ones(N1).reshape(-1,1)]\n",
        "\n",
        "  return X,T"
      ]
    },
    {
      "cell_type": "markdown",
      "metadata": {
        "id": "8jwIvOF7syb7"
      },
      "source": [
        "## Create Some Data\n",
        "\n",
        "Let's create some data that we can classify \n",
        "In the plot below, we show the data we observe. We see two classes where blue points belong to Class 0 and the red crosses belong to Class 1. "
      ]
    },
    {
      "cell_type": "code",
      "execution_count": null,
      "metadata": {
        "colab": {
          "base_uri": "https://localhost:8080/",
          "height": 298
        },
        "id": "ITwWPa7Usyb7",
        "outputId": "809bc5d0-b312-41a9-f2e6-120788995e67"
      },
      "outputs": [
        {
          "output_type": "stream",
          "name": "stdout",
          "text": [
            "(15, 2)\n"
          ]
        },
        {
          "output_type": "display_data",
          "data": {
            "text/plain": [
              "<Figure size 432x288 with 1 Axes>"
            ],
            "image/png": "[encoded data removed]"
          },
          "metadata": {
            "needs_background": "light"
          }
        }
      ],
      "source": [
        "# set seed\n",
        "np.random.seed(5)\n",
        "\n",
        "N = 30 # should be even number\n",
        "\n",
        "# class 0 parameters\n",
        "mean_0 = np.array([0.0, 1.0])\n",
        "cov_0 = np.array([[1, 0], [0, 1]])\n",
        "theta_0 = [mean_0, cov_0]\n",
        "\n",
        "#class 1 parameters\n",
        "mean_1 = np.array([0.0, 3.0])\n",
        "cov_1 = np.array([[1, 0], [0, 1]])\n",
        "theta_1 = [mean_1, cov_1]\n",
        "\n",
        "# generate and plot\n",
        "samples_0, samples_1 = genData(N, theta_0, theta_1)\n",
        "plotData(samples_0, samples_1)\n",
        "print(samples_0.shape)"
      ]
    },
    {
      "cell_type": "markdown",
      "metadata": {
        "id": "LcYjg4Eusyb8"
      },
      "source": [
        "## Linear Regression Model\n",
        "\n",
        "To start, let us do linear regression. It's not completely right, but let's give it a try!"
      ]
    },
    {
      "cell_type": "markdown",
      "metadata": {
        "id": "_2HcruVQsyb-"
      },
      "source": [
        "### Analytical Linear Regression Solution\n",
        "\n",
        "Let's implement the solution we worked out in the previous lectures. First, we need to put all the data into one matrix. \n",
        "\n",
        "We set the targets as -1 for class 0 and +1 for class 1. \n"
      ]
    },
    {
      "cell_type": "code",
      "execution_count": null,
      "metadata": {
        "id": "yqEAS7E1syb_"
      },
      "outputs": [],
      "source": [
        "X, T = makeMatrixData(samples_0, samples_1, negclass=-1)"
      ]
    },
    {
      "cell_type": "markdown",
      "metadata": {
        "id": "G5eEr8wXsyb_"
      },
      "source": [
        "Recall, we derived the following formula: $\\mathbf{w}_{ml} = (\\mathbf{X}^\\top \\mathbf{X} + \\lambda \\mathbf{I})^{-1}\\mathbf{X}^\\top \\mathbf{t}$"
      ]
    },
    {
      "cell_type": "code",
      "execution_count": null,
      "metadata": {
        "id": "uCSPjY-Jsyb_"
      },
      "outputs": [],
      "source": [
        "# we derived the following function in class. \"@\" is the symbol for matrix multiplication\n",
        "lbd = exp(-20)\n",
        "w_map = pinv(X.transpose() @ X + lbd*np.identity(X.shape[1]) ) @ X.transpose() @ T\n"
      ]
    },
    {
      "cell_type": "code",
      "execution_count": null,
      "metadata": {
        "colab": {
          "base_uri": "https://localhost:8080/"
        },
        "id": "P9BYIXPvsycA",
        "outputId": "6484a68f-3327-4d68-efaa-9757ec4cbde8"
      },
      "outputs": [
        {
          "output_type": "stream",
          "name": "stdout",
          "text": [
            "[[-1.3202764 ]\n",
            " [-0.06044229]\n",
            " [ 0.57973562]]\n"
          ]
        }
      ],
      "source": [
        "print(w_map)"
      ]
    },
    {
      "cell_type": "markdown",
      "metadata": {
        "id": "ysjvYdmHsycB"
      },
      "source": [
        "Let's plot the function we leart."
      ]
    },
    {
      "cell_type": "code",
      "source": [
        "fig, ax = plotBoundary(w_map, xlims=[-3,3], ylims=[-1,6])\n",
        "plotData(samples_0, samples_1, fig=fig, ax=ax)\n",
        "ax.set_xlim([-3,3])\n",
        "ax.set_ylim([-1,6])"
      ],
      "metadata": {
        "colab": {
          "base_uri": "https://localhost:8080/",
          "height": 302
        },
        "id": "LTncUp5mvrWH",
        "outputId": "a814b868-eb39-4767-8965-6a79eb741e65"
      },
      "execution_count": null,
      "outputs": [
        {
          "output_type": "execute_result",
          "data": {
            "text/plain": [
              "(-1.0, 6.0)"
            ]
          },
          "metadata": {},
          "execution_count": 7
        },
        {
          "output_type": "display_data",
          "data": {
            "text/plain": [
              "<Figure size 432x288 with 1 Axes>"
            ],
            "image/png": "[encoded data removed]"
          },
          "metadata": {
            "needs_background": "light"
          }
        }
      ]
    },
    {
      "cell_type": "markdown",
      "source": [
        "Hey, that's not bad! Looks like our linear regression worked. But what could go wrong. Let's try some different data..."
      ],
      "metadata": {
        "id": "CJgNc8Gkz_VE"
      }
    },
    {
      "cell_type": "code",
      "source": [
        "N = 100\n",
        "np.random.seed(3)\n",
        "# class 0\n",
        "mean2_0 = np.array([-0.0, -10.0])\n",
        "cov2_0 = np.array([[0.5, 0], [0, 20]])\n",
        "theta2_0 = [mean2_0, cov2_0]\n",
        "\n",
        "# class 1\n",
        "mean2_1 = np.array([0.0, -1.0])\n",
        "cov2_1 = np.array([[1, 0], [0, 1]])\n",
        "theta2_1 = [mean2_1, cov2_1]\n",
        "\n",
        "# generate samples\n",
        "samples2_0, samples2_1 = genData(N, theta2_0, theta2_1)\n",
        "\n",
        "# make the right shapes\n",
        "X2, T2 = makeMatrixData(samples2_0, samples2_1, negclass=-1)\n",
        "\n",
        "# solve! \n",
        "w_map = pinv(X2.transpose() @ X2 + lbd*np.identity(X2.shape[1]) ) @ X2.transpose() @ T2\n",
        "print(w_map)\n",
        "\n",
        "# plot the boundary\n",
        "fig, ax = plotBoundary(w_map, xlims=[-3,3], ylims=[-25,3])\n",
        "plotData(samples2_0, samples2_1, fig=fig, ax=ax)\n"
      ],
      "metadata": {
        "colab": {
          "base_uri": "https://localhost:8080/",
          "height": 368
        },
        "id": "LsQ9sEQ5z2-o",
        "outputId": "7f7c94e5-4fd1-443f-c5be-5be2111412c4"
      },
      "execution_count": null,
      "outputs": [
        {
          "output_type": "stream",
          "name": "stdout",
          "text": [
            "[[ 0.83735979]\n",
            " [-0.06144226]\n",
            " [ 0.14371089]]\n"
          ]
        },
        {
          "output_type": "execute_result",
          "data": {
            "text/plain": [
              "(<Figure size 432x288 with 1 Axes>,\n",
              " <matplotlib.axes._subplots.AxesSubplot at 0x7f3d6af50b90>)"
            ]
          },
          "metadata": {},
          "execution_count": 8
        },
        {
          "output_type": "display_data",
          "data": {
            "text/plain": [
              "<Figure size 432x288 with 1 Axes>"
            ],
            "image/png": "[encoded data removed]"
          },
          "metadata": {
            "needs_background": "light"
          }
        }
      ]
    },
    {
      "cell_type": "markdown",
      "source": [
        "That's not a good boundary... What happened? Think about the error that linear regression is trying to minimize. Alternatively, think about the noise model of the linear regression model. "
      ],
      "metadata": {
        "id": "VyheFArVCv5G"
      }
    },
    {
      "cell_type": "markdown",
      "source": [
        "## Logistic Regression\n",
        "Next, let's try the logistic regression model we derived in class."
      ],
      "metadata": {
        "id": "rwKMC0MUFQQW"
      }
    },
    {
      "cell_type": "code",
      "source": [
        "# for logistic regression, make sure the classes are {0,1} and not {-1,1}\n",
        "\n",
        "def learnLogisticRegModel(X, T, eta=0.1, lbd=0.01, maxitr=10000, tol=1e-4, report=1000):\n",
        "  w_init = np.random.random([X.shape[1]])\n",
        "  w = w_init\n",
        "  for i in range(maxitr):\n",
        "    gradL = np.zeros([X.shape[1]])\n",
        "    for n in range(X.shape[0]):\n",
        "      gradL += (logistic(np.dot(w, X[n,:])) - T[n]) * X[n,:] + lbd*w\n",
        "    w = w - (eta/N)*gradL\n",
        "    gdnorm = np.linalg.norm(gradL)\n",
        "    if gdnorm < tol:\n",
        "      print(\"Tolerance Reached\")\n",
        "      break\n",
        "    if i %report == 0:\n",
        "      print(\"Itr %d: Gradient norm \"%(i), gdnorm)\n",
        "  return w, w_init"
      ],
      "metadata": {
        "id": "-tdRya9oOQcG"
      },
      "execution_count": null,
      "outputs": []
    },
    {
      "cell_type": "code",
      "source": [
        "\n",
        "X, T = makeMatrixData(samples_0, samples_1)\n",
        "w, w_init = learnLogisticRegModel(X,T)\n",
        "\n",
        "print(\"Initial weights: \", w_init)\n",
        "print(\"Learned weights: \", w)"
      ],
      "metadata": {
        "colab": {
          "base_uri": "https://localhost:8080/"
        },
        "id": "J3ZckGYtCu8K",
        "outputId": "13e1e3e7-64c4-4690-9f79-330f9480814c"
      },
      "execution_count": null,
      "outputs": [
        {
          "output_type": "stream",
          "name": "stdout",
          "text": [
            "Itr 0: Gradient norm  11.87756657424997\n",
            "Itr 1000: Gradient norm  1.0876842026286806\n",
            "Itr 2000: Gradient norm  0.38911046776211733\n",
            "Itr 3000: Gradient norm  0.15988114018621447\n",
            "Itr 4000: Gradient norm  0.068977855667327\n",
            "Itr 5000: Gradient norm  0.03035072984138955\n",
            "Itr 6000: Gradient norm  0.013467287468322792\n",
            "Itr 7000: Gradient norm  0.0059977782499385035\n",
            "Itr 8000: Gradient norm  0.0026755237906424425\n",
            "Itr 9000: Gradient norm  0.0011943793990204505\n",
            "Initial weights:  [0.00426643 0.24653547 0.70605618]\n",
            "Learned weights:  [-3.36521895 -0.19349637  1.61303675]\n"
          ]
        }
      ]
    },
    {
      "cell_type": "code",
      "source": [
        "# plot the boundary\n",
        "fig, ax = plotBoundary(w_init, xlims=[-3,3], ylims=[-1,6], color=\"0.5\", fill=False)\n",
        "plotBoundary(w, xlims=[-3,3], ylims=[-1,6], fig=fig, ax =ax)\n",
        "plotData(samples_0, samples_1, fig=fig, ax=ax)\n",
        "ax.set_xlim([-3,3])\n",
        "ax.set_ylim([-1,6])"
      ],
      "metadata": {
        "colab": {
          "base_uri": "https://localhost:8080/",
          "height": 302
        },
        "id": "8N2hwMzw2Ecb",
        "outputId": "840a9a2a-1a73-4ee5-df28-61ab627294e2"
      },
      "execution_count": null,
      "outputs": [
        {
          "output_type": "execute_result",
          "data": {
            "text/plain": [
              "(-1.0, 6.0)"
            ]
          },
          "metadata": {},
          "execution_count": 11
        },
        {
          "output_type": "display_data",
          "data": {
            "text/plain": [
              "<Figure size 432x288 with 1 Axes>"
            ],
            "image/png": "[encoded data removed]"
          },
          "metadata": {
            "needs_background": "light"
          }
        }
      ]
    },
    {
      "cell_type": "code",
      "source": [
        "# let's try the data that screwed up the linear regression model.\n",
        "\n",
        "# make the right shapes\n",
        "X2, T2 = makeMatrixData(samples2_0, samples2_1, negclass=0)\n",
        "w2, w2_init = learnLogisticRegModel(X2,T2)\n",
        "\n",
        "print(\"Initial weights: \", w2_init)\n",
        "print(\"Learned weights: \", w2)\n"
      ],
      "metadata": {
        "colab": {
          "base_uri": "https://localhost:8080/"
        },
        "id": "towdNhf7N0ST",
        "outputId": "1a18cc9e-21be-4cc0-b008-a04ec3b22cb3"
      },
      "execution_count": null,
      "outputs": [
        {
          "output_type": "stream",
          "name": "stdout",
          "text": [
            "Itr 0: Gradient norm  52.90721473770887\n",
            "Itr 1000: Gradient norm  0.2185560305936413\n",
            "Itr 2000: Gradient norm  0.00887306545932242\n",
            "Itr 3000: Gradient norm  0.00037068202091890506\n",
            "Tolerance Reached\n",
            "Initial weights:  [0.06154072 0.2946935  0.98811275]\n",
            "Learned weights:  [ 3.19380842 -0.2066584   0.96940144]\n"
          ]
        }
      ]
    },
    {
      "cell_type": "code",
      "source": [
        "# plot the boundary\n",
        "fig, ax = plotBoundary(w2_init, xlims=[-3,3], ylims=[-25,3], color=\"0.5\", fill=False)\n",
        "plotBoundary(w2, xlims=[-3,3], ylims=[-25,2], fig=fig, ax =ax)\n",
        "plotData(samples2_0, samples2_1, fig=fig, ax=ax)\n",
        "# ax.set_xlim([-3,3])\n",
        "# ax.set_ylim([-1,6])"
      ],
      "metadata": {
        "colab": {
          "base_uri": "https://localhost:8080/",
          "height": 316
        },
        "id": "yAnYAKRXTXsv",
        "outputId": "99e6c007-55be-40a4-886f-03f948762f2c"
      },
      "execution_count": null,
      "outputs": [
        {
          "output_type": "execute_result",
          "data": {
            "text/plain": [
              "(<Figure size 432x288 with 1 Axes>,\n",
              " <matplotlib.axes._subplots.AxesSubplot at 0x7f3d6adf2b90>)"
            ]
          },
          "metadata": {},
          "execution_count": 13
        },
        {
          "output_type": "display_data",
          "data": {
            "text/plain": [
              "<Figure size 432x288 with 1 Axes>"
            ],
            "image/png": "[encoded data removed]"
          },
          "metadata": {
            "needs_background": "light"
          }
        }
      ]
    },
    {
      "cell_type": "markdown",
      "source": [
        "Note that the logistic regression model doesn't have the same problem as the linear regression model."
      ],
      "metadata": {
        "id": "peiLCJM_USon"
      }
    },
    {
      "cell_type": "markdown",
      "metadata": {
        "id": "LjdXHGj2sycC"
      },
      "source": [
        "## Naive Bayes Model\n",
        "Let's now try a Naive Bayes model. This is a generative model. We will fit each dimension using a Gaussian distribution. We'll do a MLE estimate (but this is not robust; can you implement a MAP or Bayesian model?)\n"
      ]
    },
    {
      "cell_type": "code",
      "execution_count": null,
      "metadata": {
        "colab": {
          "base_uri": "https://localhost:8080/"
        },
        "id": "7PpiHBsPsycC",
        "outputId": "e765b757-60b9-4492-bcfd-763404694e49"
      },
      "outputs": [
        {
          "output_type": "stream",
          "name": "stdout",
          "text": [
            "Class 0 parameters:  [array([ -0.03683084, -10.73874084]), array([ 0.63789372, 19.63960879])]\n",
            "Class 1 parameters:  [array([-0.09491091, -0.97097748]), array([0.82029304, 0.71800199])]\n",
            "\n",
            "\n",
            "x:  [[0. 1.]] \n",
            " Class:  1 \n",
            " p(t|x) =  [0.08889858 0.91110142]\n"
          ]
        }
      ],
      "source": [
        "from scipy.stats.morestats import ppcc_max\n",
        "# we simply fit each class with its own parameters\n",
        "# let's learn the more complex dataset. \n",
        "\n",
        "# class 0\n",
        "mean_0 = np.mean(samples2_0, axis=0)\n",
        "var_0 = np.var(samples2_0, axis=0)\n",
        "theta_0 = [mean_0, var_0]\n",
        "print(\"Class 0 parameters: \", theta_0)\n",
        "\n",
        "c0 = stats.norm()\n",
        "\n",
        "# class 1\n",
        "mean_1 = np.mean(samples2_1, axis=0)\n",
        "var_1 = np.var(samples2_1, axis=0)\n",
        "theta_1 = [mean_1, var_1]\n",
        "print(\"Class 1 parameters: \", theta_1)\n",
        "print(\"\\n\")\n",
        "\n",
        "# this is implemented to show you step-by-step how this is performed.\n",
        "# for numerical stability, you would implement this differently. \n",
        "def classifyGaussNB(x, theta0, theta1):\n",
        "  theta = [theta0, theta1]\n",
        "  logpx_c = [0.0, 0.0] \n",
        "  for c in range(2):\n",
        "    for d in range(x.shape[1]):\n",
        "      logpx_c[c] += stats.norm.logpdf(x[0][d], theta[c][0][d], np.sqrt(theta[c][1][d])) \n",
        "      \n",
        "  px = np.sum(exp(logpx_c))\n",
        "  pc_x = exp(logpx_c) / px\n",
        "\n",
        "  return np.argmax(pc_x), pc_x \n",
        "\n",
        "\n",
        "x = np.array([[0.0, 1.0]])\n",
        "c_x, pc_x = classifyGaussNB(x, theta_0, theta_1)\n",
        "print(\"x: \", x, \"\\n Class: \", c_x, \"\\n p(t|x) = \", pc_x.T)"
      ]
    },
    {
      "cell_type": "code",
      "source": [
        "# It's 1 am so, I won't solve the decision boundaries but we'll let the computer plot it\n",
        "i = 0\n",
        "S = 201\n",
        "xx1 = np.linspace(-3, 3, S)\n",
        "xx2 = np.linspace(-25, 2, S)\n",
        "c_x = np.zeros((S,S))\n",
        "pc_x = np.zeros((S,S))\n",
        "for i in range(S):\n",
        "  for j in range(S):\n",
        "    x1 = xx1[i]\n",
        "    x2 = xx2[j]\n",
        "    c_x[i,j], _ = classifyGaussNB(np.array([[x1, x2]]), theta_0, theta_1)\n",
        "    \n",
        "  "
      ],
      "metadata": {
        "id": "nj5HNwj_eY4e"
      },
      "execution_count": null,
      "outputs": []
    },
    {
      "cell_type": "code",
      "source": [
        "fig, ax = plt.subplots()\n",
        "cs = ax.contourf(xx1, xx2, c_x.T, [0.0, 0.5, 1.0], colors=['red', 'blue', 'blue'], alpha=0.1)\n",
        "plotData(samples2_0, samples2_1, fig=fig, ax=ax)"
      ],
      "metadata": {
        "colab": {
          "base_uri": "https://localhost:8080/"
        },
        "id": "GG2h2NEEh4Ta",
        "outputId": "69703d89-2889-4999-d76c-63e4bc0a2541"
      },
      "execution_count": null,
      "outputs": [
        {
          "output_type": "execute_result",
          "data": {
            "text/plain": [
              "(<Figure size 432x288 with 1 Axes>,\n",
              " <matplotlib.axes._subplots.AxesSubplot at 0x7f3d6ad37d90>)"
            ]
          },
          "metadata": {},
          "execution_count": 16
        },
        {
          "output_type": "display_data",
          "data": {
            "text/plain": [
              "<Figure size 432x288 with 1 Axes>"
            ],
            "image/png": "[encoded data removed]"
          },
          "metadata": {
            "needs_background": "light"
          }
        }
      ]
    },
    {
      "cell_type": "markdown",
      "source": [
        "The separating curve above does not look linear; why do you think that is?"
      ],
      "metadata": {
        "id": "VEW3Do_EltOm"
      }
    },
    {
      "cell_type": "markdown",
      "source": [
        "## Summary\n",
        "We've now managed to go from linear regression to linear classification. Reflect upon the key concepts learnt:\n",
        "- Logistic Regression: how is it different from linear regression? \n",
        "- Discriminative v.s. Generative models: what are the connections? How are they similar and how are they different? \n",
        "\n",
        "Think about the following (again, you can modify the code if you want): \n",
        "- Basis Functions: how can you incorporate basis functions into the above? \n",
        "- Non-diagonal Covariance matrices: change the data to be from a Gaussian with \"full\" covariance matrices and explore the differences between the models.\n",
        "- Can you extend the above towards multi-class classification?\n",
        "- Do you think the bias-variance tradeoff also holds in classification? "
      ],
      "metadata": {
        "id": "xkIxO-rgmsNX"
      }
    },
    {
      "cell_type": "code",
      "source": [
        ""
      ],
      "metadata": {
        "id": "Hpon1RFmmi80"
      },
      "execution_count": null,
      "outputs": []
    }
  ],
  "metadata": {
    "kernelspec": {
      "display_name": "Python 3",
      "language": "python",
      "name": "python3"
    },
    "language_info": {
      "codemirror_mode": {
        "name": "ipython",
        "version": 3
      },
      "file_extension": ".py",
      "mimetype": "text/x-python",
      "name": "python",
      "nbconvert_exporter": "python",
      "pygments_lexer": "ipython3",
      "version": "3.7.4"
    },
    "colab": {
      "name": "CS3244 Lecture 4: Linear Classification.ipynb",
      "provenance": [],
      "collapsed_sections": []
    }
  },
  "nbformat": 4,
  "nbformat_minor": 0
}